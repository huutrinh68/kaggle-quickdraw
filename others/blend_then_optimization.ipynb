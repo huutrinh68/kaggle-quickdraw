{
 "cells": [
  {
   "cell_type": "code",
   "execution_count": 59,
   "metadata": {},
   "outputs": [],
   "source": [
    "import os\n",
    "import numpy as np\n",
    "import pandas as pd\n",
    "import pickle\n",
    "from sklearn.preprocessing import LabelEncoder"
   ]
  },
  {
   "cell_type": "code",
   "execution_count": 23,
   "metadata": {},
   "outputs": [],
   "source": [
    "if True:\n",
    "    label_encoder = LabelEncoder()\n",
    "    label_encoder.classes_ = np.load(os.path.join(root_path, \"le_classes.npy\"))\n",
    "word_encoder = LabelEncoder()\n",
    "word_encoder.classes_ = np.array(['The Eiffel Tower', 'The Great Wall of China', 'The Mona Lisa',\n",
    "                                    'airplane', 'alarm clock', 'ambulance', 'angel',\n",
    "                                    'animal migration', 'ant', 'anvil', 'apple', 'arm', 'asparagus',\n",
    "                                    'axe', 'backpack', 'banana', 'bandage', 'barn', 'baseball',\n",
    "                                    'baseball bat', 'basket', 'basketball', 'bat', 'bathtub', 'beach',\n",
    "                                    'bear', 'beard', 'bed', 'bee', 'belt', 'bench', 'bicycle',\n",
    "                                    'binoculars', 'bird', 'birthday cake', 'blackberry', 'blueberry',\n",
    "                                    'book', 'boomerang', 'bottlecap', 'bowtie', 'bracelet', 'brain',\n",
    "                                    'bread', 'bridge', 'broccoli', 'broom', 'bucket', 'bulldozer',\n",
    "                                    'bus', 'bush', 'butterfly', 'cactus', 'cake', 'calculator',\n",
    "                                    'calendar', 'camel', 'camera', 'camouflage', 'campfire', 'candle',\n",
    "                                    'cannon', 'canoe', 'car', 'carrot', 'castle', 'cat', 'ceiling fan',\n",
    "                                    'cell phone', 'cello', 'chair', 'chandelier', 'church', 'circle',\n",
    "                                    'clarinet', 'clock', 'cloud', 'coffee cup', 'compass', 'computer',\n",
    "                                    'cookie', 'cooler', 'couch', 'cow', 'crab', 'crayon', 'crocodile',\n",
    "                                    'crown', 'cruise ship', 'cup', 'diamond', 'dishwasher',\n",
    "                                    'diving board', 'dog', 'dolphin', 'donut', 'door', 'dragon',\n",
    "                                    'dresser', 'drill', 'drums', 'duck', 'dumbbell', 'ear', 'elbow',\n",
    "                                    'elephant', 'envelope', 'eraser', 'eye', 'eyeglasses', 'face',\n",
    "                                    'fan', 'feather', 'fence', 'finger', 'fire hydrant', 'fireplace',\n",
    "                                    'firetruck', 'fish', 'flamingo', 'flashlight', 'flip flops',\n",
    "                                    'floor lamp', 'flower', 'flying saucer', 'foot', 'fork', 'frog',\n",
    "                                    'frying pan', 'garden', 'garden hose', 'giraffe', 'goatee',\n",
    "                                    'golf club', 'grapes', 'grass', 'guitar', 'hamburger', 'hammer',\n",
    "                                    'hand', 'harp', 'hat', 'headphones', 'hedgehog', 'helicopter',\n",
    "                                    'helmet', 'hexagon', 'hockey puck', 'hockey stick', 'horse',\n",
    "                                    'hospital', 'hot air balloon', 'hot dog', 'hot tub', 'hourglass',\n",
    "                                    'house', 'house plant', 'hurricane', 'ice cream', 'jacket', 'jail',\n",
    "                                    'kangaroo', 'key', 'keyboard', 'knee', 'ladder', 'lantern',\n",
    "                                    'laptop', 'leaf', 'leg', 'light bulb', 'lighthouse', 'lightning',\n",
    "                                    'line', 'lion', 'lipstick', 'lobster', 'lollipop', 'mailbox',\n",
    "                                    'map', 'marker', 'matches', 'megaphone', 'mermaid', 'microphone',\n",
    "                                    'microwave', 'monkey', 'moon', 'mosquito', 'motorbike', 'mountain',\n",
    "                                    'mouse', 'moustache', 'mouth', 'mug', 'mushroom', 'nail',\n",
    "                                    'necklace', 'nose', 'ocean', 'octagon', 'octopus', 'onion', 'oven',\n",
    "                                    'owl', 'paint can', 'paintbrush', 'palm tree', 'panda', 'pants',\n",
    "                                    'paper clip', 'parachute', 'parrot', 'passport', 'peanut', 'pear',\n",
    "                                    'peas', 'pencil', 'penguin', 'piano', 'pickup truck',\n",
    "                                    'picture frame', 'pig', 'pillow', 'pineapple', 'pizza', 'pliers',\n",
    "                                    'police car', 'pond', 'pool', 'popsicle', 'postcard', 'potato',\n",
    "                                    'power outlet', 'purse', 'rabbit', 'raccoon', 'radio', 'rain',\n",
    "                                    'rainbow', 'rake', 'remote control', 'rhinoceros', 'river',\n",
    "                                    'roller coaster', 'rollerskates', 'sailboat', 'sandwich', 'saw',\n",
    "                                    'saxophone', 'school bus', 'scissors', 'scorpion', 'screwdriver',\n",
    "                                    'sea turtle', 'see saw', 'shark', 'sheep', 'shoe', 'shorts',\n",
    "                                    'shovel', 'sink', 'skateboard', 'skull', 'skyscraper',\n",
    "                                    'sleeping bag', 'smiley face', 'snail', 'snake', 'snorkel',\n",
    "                                    'snowflake', 'snowman', 'soccer ball', 'sock', 'speedboat',\n",
    "                                    'spider', 'spoon', 'spreadsheet', 'square', 'squiggle', 'squirrel',\n",
    "                                    'stairs', 'star', 'steak', 'stereo', 'stethoscope', 'stitches',\n",
    "                                    'stop sign', 'stove', 'strawberry', 'streetlight', 'string bean',\n",
    "                                    'submarine', 'suitcase', 'sun', 'swan', 'sweater', 'swing set',\n",
    "                                    'sword', 't-shirt', 'table', 'teapot', 'teddy-bear', 'telephone',\n",
    "                                    'television', 'tennis racquet', 'tent', 'tiger', 'toaster', 'toe',\n",
    "                                    'toilet', 'tooth', 'toothbrush', 'toothpaste', 'tornado',\n",
    "                                    'tractor', 'traffic light', 'train', 'tree', 'triangle',\n",
    "                                    'trombone', 'truck', 'trumpet', 'umbrella', 'underwear', 'van',\n",
    "                                    'vase', 'violin', 'washing machine', 'watermelon', 'waterslide',\n",
    "                                    'whale', 'wheel', 'windmill', 'wine bottle', 'wine glass',\n",
    "                                    'wristwatch', 'yoga', 'zebra', 'zigzag'], dtype=object)"
   ]
  },
  {
   "cell_type": "code",
   "execution_count": 3,
   "metadata": {},
   "outputs": [],
   "source": [
    "root_path = \"/home/trinhnh1/Downloads/models/\""
   ]
  },
  {
   "cell_type": "code",
   "execution_count": 6,
   "metadata": {},
   "outputs": [],
   "source": [
    "pred_925 = np.load(os.path.join(root_path, \"se_resnet_50_925.npy\"))\n",
    "pred_926 = np.load(os.path.join(root_path, \"resnext_926.npy\"))\n",
    "pred_929 = np.load(os.path.join(root_path, \"logits_seresnet_929.npy\"))\n",
    "pred_932 = np.load(os.path.join(root_path, \"logits_resnet34_full_932.npy\"))\n",
    "pred_933 = pickle.load(open(os.path.join(root_path, \"test_predictions_densenet121_fix.pkl\"), \"rb\"))\n",
    "pred_934 = pickle.load(open(os.path.join(root_path, \"y_pred_densenet169.pkl\"), \"rb\"))"
   ]
  },
  {
   "cell_type": "code",
   "execution_count": 105,
   "metadata": {},
   "outputs": [],
   "source": [
    "pred_925_argsort = np.argsort(pred_925, axis=1)\n",
    "pred_926_argsort = np.argsort(pred_926, axis=1)\n",
    "pred_929_argsort = np.argsort(pred_929, axis=1)\n",
    "pred_932_argsort = np.argsort(pred_932, axis=1)\n",
    "pred_933_argsort = np.argsort(pred_933, axis=1)\n",
    "pred_934_argsort = np.argsort(pred_934, axis=1)"
   ]
  },
  {
   "cell_type": "code",
   "execution_count": 106,
   "metadata": {},
   "outputs": [],
   "source": [
    "list_argsort = [pred_925_argsort, pred_926_argsort, pred_929_argsort, pred_932_argsort, pred_933_argsort, pred_934_argsort]\n",
    "list_y_pred = np.array([pred_925, pred_926, pred_929, pred_932, pred_933, pred_934])"
   ]
  },
  {
   "cell_type": "code",
   "execution_count": 107,
   "metadata": {},
   "outputs": [],
   "source": [
    "pred = (pred_925 + 2*pred_926 + 2*pred_929 + 3*pred_932 + 4*pred_933 + 4*pred_934) / 16"
   ]
  },
  {
   "cell_type": "code",
   "execution_count": 108,
   "metadata": {},
   "outputs": [],
   "source": [
    "pred_340 = np.vstack([pred, np.zeros(340)])\n",
    "pred_340 *= 1000000000"
   ]
  },
  {
   "cell_type": "code",
   "execution_count": 109,
   "metadata": {},
   "outputs": [],
   "source": [
    "pred_340 = pred_340.astype(np.int64)"
   ]
  },
  {
   "cell_type": "code",
   "execution_count": 110,
   "metadata": {},
   "outputs": [
    {
     "data": {
      "text/plain": [
       "array([[       25,       376,         8, ...,       241,         8,\n",
       "              104],\n",
       "       [      313,      6432,       120, ...,      2873,        67,\n",
       "               97],\n",
       "       [     8052, 663959503,       202, ...,       159,       170,\n",
       "             1978],\n",
       "       ...,\n",
       "       [       22,        57,       203, ...,        45,        37,\n",
       "               97],\n",
       "       [      370,       745,       467, ...,       351,       217,\n",
       "              509],\n",
       "       [        0,         0,         0, ...,         0,         0,\n",
       "                0]])"
      ]
     },
     "execution_count": 110,
     "metadata": {},
     "output_type": "execute_result"
    }
   ],
   "source": [
    "pred_340"
   ]
  },
  {
   "cell_type": "code",
   "execution_count": 111,
   "metadata": {},
   "outputs": [
    {
     "name": "stdout",
     "output_type": "stream",
     "text": [
      "112200\n"
     ]
    }
   ],
   "source": [
    "from ortools.graph import pywrapgraph\n",
    "def mcf_balance(pred_340):\n",
    "    m = pred_340.astype(np.int64)\n",
    "    size = pred_340.shape[0]\n",
    "    print(size)\n",
    "    mcf = pywrapgraph.SimpleMinCostFlow()\n",
    "    for j in range(340):\n",
    "        mcf.SetNodeSupply(j+size, size//340)\n",
    "    for i in range(size):\n",
    "        mcf.SetNodeSupply(i, -1)\n",
    "        for j in range(340):\n",
    "            mcf.AddArcWithCapacityAndUnitCost(j+size, i, 1, int(-m[i][j]))\n",
    "    mcf.SolveMaxFlowWithMinCost()\n",
    "\n",
    "    answ = np.zeros(size, dtype=np.int32)\n",
    "    for i in range(mcf.NumArcs()):\n",
    "        if mcf.Flow(i) > 0:\n",
    "            answ[mcf.Head(i)] = mcf.Tail(i) - size\n",
    "    return answ\n",
    "\n",
    "rs = mcf_balance(pred_340)"
   ]
  },
  {
   "cell_type": "code",
   "execution_count": 112,
   "metadata": {},
   "outputs": [],
   "source": [
    "opt_pred = word_encoder.classes_[rs]"
   ]
  },
  {
   "cell_type": "code",
   "execution_count": 113,
   "metadata": {},
   "outputs": [],
   "source": [
    "top_3_pred = [word_encoder.classes_[np.argsort(-1*c_pred)[:3]] for c_pred in pred]"
   ]
  },
  {
   "cell_type": "code",
   "execution_count": 114,
   "metadata": {},
   "outputs": [
    {
     "name": "stdout",
     "output_type": "stream",
     "text": [
      "['bat', 'baseball bat', 'bandage'] ['baseball bat' 'bandage' 'bat']\n",
      "['beach', 'palm tree', 'owl'] ['palm tree' 'beach' 'owl']\n",
      "['screwdriver', 'popsicle', 'police car'] ['popsicle' 'police car' 'screwdriver']\n",
      "['speedboat', 'sailboat', 'snowman'] ['sailboat' 'speedboat' 'snowman']\n",
      "['sweater', 't-shirt', 'suitcase'] ['t-shirt' 'sweater' 'suitcase']\n",
      "['hurricane', 'tornado', 'hourglass'] ['tornado' 'hurricane' 'hourglass']\n"
     ]
    }
   ],
   "source": [
    "final = []\n",
    "for o, t3 in zip(opt_pred, top_3_pred):\n",
    "    t2 = [c for c in t3 if c != o]\n",
    "    f3 = [o] + t2[:2]\n",
    "    final.append(f3)\n",
    "    \n",
    "c = 0\n",
    "for o3, t3 in zip(final, top_3_pred):\n",
    "    if not np.array_equal(o3,t3):\n",
    "        print(o3, t3)\n",
    "        c += 1\n",
    "        if c > 5: \n",
    "            break"
   ]
  },
  {
   "cell_type": "code",
   "execution_count": 115,
   "metadata": {},
   "outputs": [
    {
     "data": {
      "text/plain": [
       "['radio purse stereo',\n",
       " 'hockey_puck helicopter bottlecap',\n",
       " 'The_Great_Wall_of_China tennis_racquet castle']"
      ]
     },
     "execution_count": 115,
     "metadata": {},
     "output_type": "execute_result"
    }
   ],
   "source": [
    "final_3_pred = [' '.join([col.replace(' ', '_') for col in row]) for row in final]\n",
    "final_3_pred[:3]"
   ]
  },
  {
   "cell_type": "code",
   "execution_count": 116,
   "metadata": {},
   "outputs": [],
   "source": [
    "test_path = os.path.join(root_path, \"test_simplified.csv\")\n",
    "sub_df = pd.read_csv(test_path)"
   ]
  },
  {
   "cell_type": "code",
   "execution_count": 117,
   "metadata": {},
   "outputs": [
    {
     "data": {
      "text/html": [
       "<div>\n",
       "<style scoped>\n",
       "    .dataframe tbody tr th:only-of-type {\n",
       "        vertical-align: middle;\n",
       "    }\n",
       "\n",
       "    .dataframe tbody tr th {\n",
       "        vertical-align: top;\n",
       "    }\n",
       "\n",
       "    .dataframe thead th {\n",
       "        text-align: right;\n",
       "    }\n",
       "</style>\n",
       "<table border=\"1\" class=\"dataframe\">\n",
       "  <thead>\n",
       "    <tr style=\"text-align: right;\">\n",
       "      <th></th>\n",
       "      <th>key_id</th>\n",
       "      <th>countrycode</th>\n",
       "      <th>drawing</th>\n",
       "      <th>word</th>\n",
       "    </tr>\n",
       "  </thead>\n",
       "  <tbody>\n",
       "    <tr>\n",
       "      <th>0</th>\n",
       "      <td>9000003627287624</td>\n",
       "      <td>DE</td>\n",
       "      <td>[[[17, 18, 20, 25, 137, 174, 242, 249, 251, 25...</td>\n",
       "      <td>radio purse stereo</td>\n",
       "    </tr>\n",
       "    <tr>\n",
       "      <th>1</th>\n",
       "      <td>9000010688666847</td>\n",
       "      <td>UA</td>\n",
       "      <td>[[[174, 145, 106, 38, 11, 4, 4, 15, 29, 78, 16...</td>\n",
       "      <td>hockey_puck helicopter bottlecap</td>\n",
       "    </tr>\n",
       "    <tr>\n",
       "      <th>2</th>\n",
       "      <td>9000023642890129</td>\n",
       "      <td>BG</td>\n",
       "      <td>[[[0, 12, 14, 17, 16, 24, 55, 57, 60, 79, 82, ...</td>\n",
       "      <td>The_Great_Wall_of_China tennis_racquet castle</td>\n",
       "    </tr>\n",
       "  </tbody>\n",
       "</table>\n",
       "</div>"
      ],
      "text/plain": [
       "             key_id countrycode  \\\n",
       "0  9000003627287624          DE   \n",
       "1  9000010688666847          UA   \n",
       "2  9000023642890129          BG   \n",
       "\n",
       "                                             drawing  \\\n",
       "0  [[[17, 18, 20, 25, 137, 174, 242, 249, 251, 25...   \n",
       "1  [[[174, 145, 106, 38, 11, 4, 4, 15, 29, 78, 16...   \n",
       "2  [[[0, 12, 14, 17, 16, 24, 55, 57, 60, 79, 82, ...   \n",
       "\n",
       "                                            word  \n",
       "0                             radio purse stereo  \n",
       "1               hockey_puck helicopter bottlecap  \n",
       "2  The_Great_Wall_of_China tennis_racquet castle  "
      ]
     },
     "execution_count": 117,
     "metadata": {},
     "output_type": "execute_result"
    }
   ],
   "source": [
    "sub_df[\"word\"] = final_3_pred\n",
    "sub_df[[\"key_id\", \"word\"]].to_csv(\"submission_opt_with_avg.csv\", index=False)\n",
    "sub_df.head(3)"
   ]
  },
  {
   "cell_type": "code",
   "execution_count": null,
   "metadata": {},
   "outputs": [],
   "source": []
  }
 ],
 "metadata": {
  "kernelspec": {
   "display_name": "Python 3",
   "language": "python",
   "name": "python3"
  },
  "language_info": {
   "codemirror_mode": {
    "name": "ipython",
    "version": 3
   },
   "file_extension": ".py",
   "mimetype": "text/x-python",
   "name": "python",
   "nbconvert_exporter": "python",
   "pygments_lexer": "ipython3",
   "version": "3.6.6"
  }
 },
 "nbformat": 4,
 "nbformat_minor": 2
}
