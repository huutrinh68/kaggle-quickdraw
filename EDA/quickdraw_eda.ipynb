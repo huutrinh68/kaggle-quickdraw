{
 "cells": [
  {
   "cell_type": "code",
   "execution_count": 26,
   "metadata": {},
   "outputs": [],
   "source": [
    "import os\n",
    "import pandas as pd\n",
    "import numpy as np\n",
    "import ast\n",
    "import matplotlib.pyplot as plt\n",
    "%matplotlib inline"
   ]
  },
  {
   "cell_type": "code",
   "execution_count": 2,
   "metadata": {},
   "outputs": [],
   "source": [
    "root_path = \"/media/trinhnh1/3A08638408633DCF/train_data/kaggle/quick_draw/input/train_raw\""
   ]
  },
  {
   "cell_type": "code",
   "execution_count": 3,
   "metadata": {},
   "outputs": [],
   "source": [
    "air_plane = os.path.join(root_path, \"airplane.csv\")"
   ]
  },
  {
   "cell_type": "code",
   "execution_count": 4,
   "metadata": {},
   "outputs": [
    {
     "data": {
      "text/html": [
       "<div>\n",
       "<style scoped>\n",
       "    .dataframe tbody tr th:only-of-type {\n",
       "        vertical-align: middle;\n",
       "    }\n",
       "\n",
       "    .dataframe tbody tr th {\n",
       "        vertical-align: top;\n",
       "    }\n",
       "\n",
       "    .dataframe thead th {\n",
       "        text-align: right;\n",
       "    }\n",
       "</style>\n",
       "<table border=\"1\" class=\"dataframe\">\n",
       "  <thead>\n",
       "    <tr style=\"text-align: right;\">\n",
       "      <th></th>\n",
       "      <th>countrycode</th>\n",
       "      <th>drawing</th>\n",
       "      <th>key_id</th>\n",
       "      <th>recognized</th>\n",
       "      <th>timestamp</th>\n",
       "      <th>word</th>\n",
       "    </tr>\n",
       "  </thead>\n",
       "  <tbody>\n",
       "    <tr>\n",
       "      <th>0</th>\n",
       "      <td>US</td>\n",
       "      <td>[[[183, 178, 174, 169, 162, 156, 149, 142, 135...</td>\n",
       "      <td>5152802093400064</td>\n",
       "      <td>True</td>\n",
       "      <td>2017-03-08 21:12:07.266040</td>\n",
       "      <td>airplane</td>\n",
       "    </tr>\n",
       "    <tr>\n",
       "      <th>1</th>\n",
       "      <td>CA</td>\n",
       "      <td>[[[785, 787, 796, 812, 815, 820, 827, 834, 852...</td>\n",
       "      <td>6622904974311424</td>\n",
       "      <td>False</td>\n",
       "      <td>2017-03-06 21:39:04.690130</td>\n",
       "      <td>airplane</td>\n",
       "    </tr>\n",
       "    <tr>\n",
       "      <th>2</th>\n",
       "      <td>US</td>\n",
       "      <td>[[[586, 586, 584, 583, 582, 581, 580, 580, 580...</td>\n",
       "      <td>6577010312740864</td>\n",
       "      <td>True</td>\n",
       "      <td>2017-03-23 02:08:35.229980</td>\n",
       "      <td>airplane</td>\n",
       "    </tr>\n",
       "    <tr>\n",
       "      <th>3</th>\n",
       "      <td>US</td>\n",
       "      <td>[[[539, 532, 526, 519, 513, 508, 502, 495, 490...</td>\n",
       "      <td>5643224746033152</td>\n",
       "      <td>True</td>\n",
       "      <td>2017-03-10 00:35:17.531970</td>\n",
       "      <td>airplane</td>\n",
       "    </tr>\n",
       "    <tr>\n",
       "      <th>4</th>\n",
       "      <td>IL</td>\n",
       "      <td>[[[217, 212, 201, 186, 165, 142, 121, 100, 78,...</td>\n",
       "      <td>6670046841536512</td>\n",
       "      <td>True</td>\n",
       "      <td>2017-01-23 18:11:11.658170</td>\n",
       "      <td>airplane</td>\n",
       "    </tr>\n",
       "  </tbody>\n",
       "</table>\n",
       "</div>"
      ],
      "text/plain": [
       "  countrycode                                            drawing  \\\n",
       "0          US  [[[183, 178, 174, 169, 162, 156, 149, 142, 135...   \n",
       "1          CA  [[[785, 787, 796, 812, 815, 820, 827, 834, 852...   \n",
       "2          US  [[[586, 586, 584, 583, 582, 581, 580, 580, 580...   \n",
       "3          US  [[[539, 532, 526, 519, 513, 508, 502, 495, 490...   \n",
       "4          IL  [[[217, 212, 201, 186, 165, 142, 121, 100, 78,...   \n",
       "\n",
       "             key_id  recognized                   timestamp      word  \n",
       "0  5152802093400064        True  2017-03-08 21:12:07.266040  airplane  \n",
       "1  6622904974311424       False  2017-03-06 21:39:04.690130  airplane  \n",
       "2  6577010312740864        True  2017-03-23 02:08:35.229980  airplane  \n",
       "3  5643224746033152        True  2017-03-10 00:35:17.531970  airplane  \n",
       "4  6670046841536512        True  2017-01-23 18:11:11.658170  airplane  "
      ]
     },
     "execution_count": 4,
     "metadata": {},
     "output_type": "execute_result"
    }
   ],
   "source": [
    "df = pd.read_csv(air_plane)\n",
    "df.head()"
   ]
  },
  {
   "cell_type": "code",
   "execution_count": 191,
   "metadata": {},
   "outputs": [],
   "source": [
    "key_id = df[\"key_id\"]\n",
    "countrycode = df[\"countrycode\"]\n",
    "recognized = df[\"recognized\"]\n",
    "timestamp = df[\"timestamp\"]\n",
    "word = df[\"word\"]\n",
    "drawing = df[\"drawing\"].apply(ast.literal_eval)"
   ]
  },
  {
   "cell_type": "code",
   "execution_count": 312,
   "metadata": {
    "scrolled": true
   },
   "outputs": [
    {
     "data": {
      "image/png": "[encoded data removed]",
      "text/plain": [
       "<Figure size 432x288 with 1 Axes>"
      ]
     },
     "metadata": {},
     "output_type": "display_data"
    }
   ],
   "source": [
    "def drawing_to_image(drawing, idx, H=256, W=256):\n",
    "    strokes = []\n",
    "    for t, stroke in enumerate(drawing[idx]):\n",
    "        strokes.append(np.array(stroke).T)\n",
    "    \n",
    "    strokes = np.concatenate(strokes)\n",
    "    \n",
    "    x_max = strokes[:,0].max()\n",
    "    y_max = strokes[:,1].max()\n",
    "    x_min = strokes[:,0].min()\n",
    "    y_min = strokes[:,1].min()\n",
    "\n",
    "    w = x_max - x_min\n",
    "    h = y_max - y_min\n",
    "\n",
    "    s = max(w,h)\n",
    "    norm_strokes = (strokes-[x_min,y_min,0])/s\n",
    "    norm_strokes = (norm_strokes-[w/s*0.5,h/s*0.5,0])*max(W,H)*0.85\n",
    "    norm_strokes = np.floor(norm_strokes + [W/2,H/2,0]).astype(np.int32)\n",
    "\n",
    "    image = np.full((H,W,3),0,np.uint8)\n",
    "    for i in range(len(norm_strokes)-1):\n",
    "        x0, y0 = norm_strokes[i][:-1]\n",
    "        x1, y1 = norm_strokes[i+1][:-1]\n",
    "        color = (255, 255, 255)\n",
    "        cv2.line(image, (x0,y0), (x1,y1), color, 1, cv2.LINE_AA)\n",
    "        image_gray = cv2.cvtColor(image, cv2.COLOR_RGB2GRAY)/255.\n",
    "    \n",
    "    plt.imshow(image_gray)\n",
    "    plt.title('Predict: '+word[5]+'. Number of strokes: '+str(len(drawing[idx]))+'. Recognized: ' + str(recognized[5]))\n",
    "    #return image, image_gray\n",
    "\n",
    "drawing_to_image(drawing, 100)"
   ]
  },
  {
   "cell_type": "code",
   "execution_count": null,
   "metadata": {},
   "outputs": [],
   "source": []
  }
 ],
 "metadata": {
  "kernelspec": {
   "display_name": "Python 3",
   "language": "python",
   "name": "python3"
  },
  "language_info": {
   "codemirror_mode": {
    "name": "ipython",
    "version": 3
   },
   "file_extension": ".py",
   "mimetype": "text/x-python",
   "name": "python",
   "nbconvert_exporter": "python",
   "pygments_lexer": "ipython3",
   "version": "3.6.6"
  }
 },
 "nbformat": 4,
 "nbformat_minor": 2
}
